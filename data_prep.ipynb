{
 "cells": [
  {
   "cell_type": "markdown",
   "metadata": {},
   "source": [
    "# Data download"
   ]
  },
  {
   "cell_type": "code",
   "execution_count": 2,
   "metadata": {},
   "outputs": [],
   "source": [
    "import os\n",
    "from six.moves.urllib.request import urlretrieve\n",
    "\n",
    "import scipy.io\n",
    "import numpy as np\n",
    "import matplotlib.pyplot as plt\n",
    "from six.moves import cPickle as pickle"
   ]
  },
  {
   "cell_type": "code",
   "execution_count": 3,
   "metadata": {},
   "outputs": [
    {
     "name": "stdout",
     "output_type": "stream",
     "text": [
      "\n",
      "Attempting to download: 98.mat\n",
      "\n",
      "Download Complete!\n",
      "./data/download\\98.mat : 7742720\n",
      "\n",
      "Attempting to download: 99.mat\n",
      "\n",
      "Download Complete!\n",
      "./data/download\\99.mat : 15503928\n",
      "\n",
      "Attempting to download: 100.mat\n",
      "\n",
      "Download Complete!\n",
      "./data/download\\100.mat : 7770624\n",
      "\n",
      "Attempting to download: 119.mat\n",
      "\n",
      "Download Complete!\n",
      "./data/download\\119.mat : 2914248\n",
      "\n",
      "Attempting to download: 120.mat\n",
      "\n",
      "Download Complete!\n",
      "./data/download\\120.mat : 2917752\n",
      "\n",
      "Attempting to download: 121.mat\n",
      "\n",
      "Download Complete!\n",
      "./data/download\\121.mat : 2917752\n",
      "\n",
      "Attempting to download: 186.mat\n",
      "\n",
      "Download Complete!\n",
      "./data/download\\186.mat : 2931672\n",
      "\n",
      "Attempting to download: 187.mat\n",
      "\n",
      "Download Complete!\n",
      "./data/download\\187.mat : 2928192\n",
      "\n",
      "Attempting to download: 188.mat\n",
      "\n",
      "Download Complete!\n",
      "./data/download\\188.mat : 2931672\n",
      "\n",
      "Attempting to download: 223.mat\n",
      "\n",
      "Download Complete!\n",
      "./data/download\\223.mat : 2921232\n",
      "\n",
      "Attempting to download: 224.mat\n",
      "\n",
      "Download Complete!\n",
      "./data/download\\224.mat : 2931672\n",
      "\n",
      "Attempting to download: 225.mat\n",
      "\n",
      "Download Complete!\n",
      "./data/download\\225.mat : 2931672\n",
      "\n",
      "Attempting to download: 106.mat\n",
      "\n",
      "Download Complete!\n",
      "./data/download\\106.mat : 2928192\n",
      "\n",
      "Attempting to download: 107.mat\n",
      "\n",
      "Download Complete!\n",
      "./data/download\\107.mat : 2931672\n",
      "\n",
      "Attempting to download: 108.mat\n",
      "\n",
      "Download Complete!\n",
      "./data/download\\108.mat : 2950416\n",
      "\n",
      "Attempting to download: 170.mat\n",
      "\n",
      "Download Complete!\n",
      "./data/download\\170.mat : 2924712\n",
      "\n",
      "Attempting to download: 171.mat\n",
      "\n",
      "Download Complete!\n",
      "./data/download\\171.mat : 2924712\n",
      "\n",
      "Attempting to download: 172.mat\n",
      "\n",
      "Download Complete!\n",
      "./data/download\\172.mat : 2921232\n",
      "\n",
      "Attempting to download: 210.mat\n",
      "\n",
      "Download Complete!\n",
      "./data/download\\210.mat : 2917752\n",
      "\n",
      "Attempting to download: 211.mat\n",
      "\n",
      "Download Complete!\n",
      "./data/download\\211.mat : 2924712\n",
      "\n",
      "Attempting to download: 212.mat\n",
      "\n",
      "Download Complete!\n",
      "./data/download\\212.mat : 2928192\n",
      "\n",
      "Attempting to download: 131.mat\n",
      "\n",
      "Download Complete!\n",
      "./data/download\\131.mat : 2938632\n",
      "\n",
      "Attempting to download: 132.mat\n",
      "\n",
      "Download Complete!\n",
      "./data/download\\132.mat : 2914248\n",
      "\n",
      "Attempting to download: 133.mat\n",
      "\n",
      "Download Complete!\n",
      "./data/download\\133.mat : 2942112\n",
      "\n",
      "Attempting to download: 198.mat\n",
      "\n",
      "Download Complete!\n",
      "./data/download\\198.mat : 2931672\n",
      "\n",
      "Attempting to download: 199.mat\n",
      "\n",
      "Download Complete!\n",
      "./data/download\\199.mat : 2924712\n",
      "\n",
      "Attempting to download: 200.mat\n",
      "\n",
      "Download Complete!\n",
      "./data/download\\200.mat : 2928192\n",
      "\n",
      "Attempting to download: 235.mat\n",
      "\n",
      "Download Complete!\n",
      "./data/download\\235.mat : 2928192\n",
      "\n",
      "Attempting to download: 236.mat\n",
      "\n",
      "Download Complete!\n",
      "./data/download\\236.mat : 2935152\n",
      "\n",
      "Attempting to download: 237.mat\n",
      "\n",
      "Download Complete!\n",
      "./data/download\\237.mat : 2928192\n"
     ]
    }
   ],
   "source": [
    "url_base =  'http://csegroups.case.edu/sites/default/files/bearingdatacenter/files/Datafiles/'\n",
    "download_folder = r'./data/download'\n",
    "\n",
    "file_dictionary = {\n",
    "        \"1-A\" : \"98.mat\",\n",
    "        \"1-B\" : \"99.mat\",\n",
    "        \"1-C\" : \"100.mat\",\n",
    "        \"2-A\" : \"119.mat\",\n",
    "        \"2-B\" : \"120.mat\",\n",
    "        \"2-C\" : \"121.mat\",\n",
    "        \"3-A\" : \"186.mat\",\n",
    "        \"3-B\" : \"187.mat\",\n",
    "        \"3-C\" : \"188.mat\",\n",
    "        \"4-A\" : \"223.mat\",\n",
    "        \"4-B\" : \"224.mat\",\n",
    "        \"4-C\" : \"225.mat\",\n",
    "        \"5-A\" : \"106.mat\",\n",
    "        \"5-B\" : \"107.mat\",\n",
    "        \"5-C\" : \"108.mat\",\n",
    "        \"6-A\" : \"170.mat\",\n",
    "        \"6-B\" : \"171.mat\",\n",
    "        \"6-C\" : \"172.mat\",\n",
    "        \"7-A\" : \"210.mat\",\n",
    "        \"7-B\" : \"211.mat\",\n",
    "        \"7-C\" : \"212.mat\",\n",
    "        \"8-A\" : \"131.mat\",\n",
    "        \"8-B\" : \"132.mat\",\n",
    "        \"8-C\" : \"133.mat\",\n",
    "        \"9-A\" : \"198.mat\",\n",
    "        \"9-B\" : \"199.mat\",\n",
    "        \"9-C\" : \"200.mat\",\n",
    "        \"10-A\" : \"235.mat\",\n",
    "        \"10-B\" : \"236.mat\",\n",
    "        \"10-C\" : \"237.mat\"\n",
    "        }\n",
    "\n",
    "for key,filename in file_dictionary.items():\n",
    "    dest_filename = os.path.join(download_folder, filename)\n",
    "    if not os.path.exists(dest_filename):\n",
    "        print('\\nAttempting to download:', filename) \n",
    "        filename, _ = urlretrieve(url_base + filename, dest_filename)\n",
    "        print('\\nDownload Complete!')\n",
    "        statinfo = os.stat(dest_filename)\n",
    "        print(filename,':', statinfo.st_size)\n"
   ]
  },
  {
   "cell_type": "markdown",
   "metadata": {},
   "source": [
    "# Formatting arrays"
   ]
  },
  {
   "cell_type": "code",
   "execution_count": 4,
   "metadata": {},
   "outputs": [],
   "source": [
    "Channels = ['DE','FE'] # Drive End , Fan End\n",
    "Vib_mc = {} # multi-channel\n",
    "\n",
    "for c in Channels:\n",
    "    Sen_series = {}\n",
    "    for key,filename in sorted(file_dictionary.items()):\n",
    "        mtfilename = os.path.join(download_folder, filename)\n",
    "        data = scipy.io.loadmat(mtfilename)\n",
    "        for i in data:\n",
    "            if  '_'+c+'_time' in i:\n",
    "                Sen_series[key] = data[i]\n",
    "    Vib_mc[c]= Sen_series"
   ]
  },
  {
   "cell_type": "markdown",
   "metadata": {},
   "source": [
    "checking number of rows and statistics for each of 10 categories(1-10) and 3 HP (A,B,C) "
   ]
  },
  {
   "cell_type": "code",
   "execution_count": 5,
   "metadata": {},
   "outputs": [
    {
     "name": "stdout",
     "output_type": "stream",
     "text": [
      "1-A rows: 483903 avg: 0.03 min: -0.22 max: 0.32\n",
      "1-B rows: 485063 avg: 0.03 min: -0.24 max: 0.31\n",
      "1-C rows: 485643 avg: 0.03 min: -0.3 max: 0.38\n",
      "10-A rows: 121991 avg: 0.03 min: -1.66 max: 1.84\n",
      "10-B rows: 122281 avg: 0.03 min: -1.9 max: 1.98\n",
      "10-C rows: 121991 avg: 0.03 min: -1.86 max: 2.09\n",
      "2-A rows: 121410 avg: 0.03 min: -0.31 max: 0.38\n",
      "2-B rows: 121556 avg: 0.03 min: -0.33 max: 0.39\n",
      "2-C rows: 121556 avg: 0.03 min: -0.44 max: 0.48\n",
      "3-A rows: 122136 avg: 0.03 min: -0.31 max: 0.35\n",
      "3-B rows: 121991 avg: 0.03 min: -0.43 max: 0.47\n",
      "3-C rows: 122136 avg: 0.03 min: -0.64 max: 0.65\n",
      "4-A rows: 121701 avg: 0.03 min: -0.59 max: 0.6\n",
      "4-B rows: 122136 avg: 0.03 min: -0.41 max: 0.4\n",
      "4-C rows: 122136 avg: 0.03 min: -0.34 max: 0.41\n",
      "5-A rows: 121991 avg: 0.03 min: -1.15 max: 0.97\n",
      "5-B rows: 122136 avg: 0.03 min: -0.9 max: 0.96\n",
      "5-C rows: 122917 avg: 0.03 min: -1.08 max: 0.9\n",
      "6-A rows: 121846 avg: 0.03 min: -0.67 max: 0.63\n",
      "6-B rows: 121846 avg: 0.03 min: -0.68 max: 0.62\n",
      "6-C rows: 121701 avg: 0.03 min: -0.7 max: 0.65\n",
      "7-A rows: 121556 avg: 0.03 min: -0.86 max: 0.89\n",
      "7-B rows: 121846 avg: 0.03 min: -0.83 max: 1.01\n",
      "7-C rows: 121991 avg: 0.03 min: -0.84 max: 0.87\n",
      "8-A rows: 122426 avg: 0.03 min: -1.04 max: 1.07\n",
      "8-B rows: 121410 avg: 0.03 min: -0.95 max: 1.05\n",
      "8-C rows: 122571 avg: 0.03 min: -0.97 max: 1.23\n",
      "9-A rows: 122136 avg: 0.03 min: -0.38 max: 0.41\n",
      "9-B rows: 121846 avg: 0.03 min: -0.36 max: 0.42\n",
      "9-C rows: 121991 avg: 0.03 min: -0.43 max: 0.49\n",
      "minimum row: 121410\n"
     ]
    }
   ],
   "source": [
    "Channel = Channels[1]\n",
    "\n",
    "minrow = Vib_mc[Channel][list(Vib_mc[Channel].keys())[0]].shape[0]\n",
    "\n",
    "for key,array in sorted(Vib_mc[Channel].items()):\n",
    "    print(key, \"rows:\", array.shape[0]\n",
    "        , \"avg:\",round(np.mean(array),2)\n",
    "        , \"min:\",round(np.min(array),2)\n",
    "        , \"max:\",round(np.max(array),2))    \n",
    "    if array.shape[0] < minrow:\n",
    "        minrow = array.shape[0]\n",
    "\n",
    "print(\"minimum row:\",minrow )"
   ]
  },
  {
   "cell_type": "markdown",
   "metadata": {},
   "source": [
    "quick visual check"
   ]
  },
  {
   "cell_type": "code",
   "execution_count": 6,
   "metadata": {},
   "outputs": [
    {
     "data": {
      "image/png": "[encoded data removed]",
      "text/plain": [
       "<Figure size 432x288 with 1 Axes>"
      ]
     },
     "metadata": {},
     "output_type": "display_data"
    },
    {
     "data": {
      "image/png": "[encoded data removed]",
      "text/plain": [
       "<Figure size 432x288 with 1 Axes>"
      ]
     },
     "metadata": {},
     "output_type": "display_data"
    }
   ],
   "source": [
    "sample = Vib_mc['FE']['2-A']\n",
    "plt.plot(sample[:128])\n",
    "plt.show()\n",
    "sample = Vib_mc['DE']['2-A']\n",
    "plt.plot(sample[:128])\n",
    "plt.show()"
   ]
  },
  {
   "cell_type": "markdown",
   "metadata": {},
   "source": [
    "We need to create data samples with fixed length (2048 data points) for the 2 accelometers (DE and FE).\n",
    "\n",
    "Let's take test samples without shift(augument) from the 1st half of the data from each file (categories x HP)"
   ]
  },
  {
   "cell_type": "code",
   "execution_count": null,
   "metadata": {},
   "outputs": [],
   "source": [
    "X_test_temp = {}\n",
    "sample_len = 2048\n",
    "sample_test_cnt = 25\n",
    "\n",
    "for key,sample in sorted(Vib_mc[Channels[0]].items()):\n",
    "    X_test_temp[key] = np.concatenate((Vib_mc[Channels[0]][key][:sample_len*sample_test_cnt].reshape(sample_test_cnt,sample_len,1)\n",
    "                            ,Vib_mc[Channels[1]][key][:sample_len*sample_test_cnt].reshape(sample_test_cnt,sample_len,1)\n",
    "                            ),axis=2)"
   ]
  },
  {
   "cell_type": "markdown",
   "metadata": {},
   "source": [
    "Next, training data with overlap (augmentation). Shifting 103 data points."
   ]
  },
  {
   "cell_type": "code",
   "execution_count": 9,
   "metadata": {},
   "outputs": [],
   "source": [
    "X_train_temp = {}\n",
    "sample_train_cnt = 660\n",
    "sample_train_shift = 103\n",
    "for key,sample in sorted(Vib_mc[Channels[0]].items()):\n",
    "    train_array = np.concatenate((Vib_mc[Channels[0]][key][sample_len*sample_test_cnt:sample_len*sample_test_cnt+sample_len].reshape(1,sample_len,1)\n",
    "                                 ,Vib_mc[Channels[1]][key][sample_len*sample_test_cnt:sample_len*sample_test_cnt+sample_len].reshape(1,sample_len,1)\n",
    "                                 ),axis=2)\n",
    "    for i in range(sample_train_cnt-1):\n",
    "        train_array = np.concatenate((train_array\n",
    "                                 ,np.concatenate((\n",
    "                                         Vib_mc[Channels[0]][key][sample_len*sample_test_cnt+sample_train_shift*(i+1):sample_len*sample_test_cnt+sample_len+sample_train_shift*(i+1)].reshape(1,sample_len,1)\n",
    "                                        ,Vib_mc[Channels[1]][key][sample_len*sample_test_cnt+sample_train_shift*(i+1):sample_len*sample_test_cnt+sample_len+sample_train_shift*(i+1)].reshape(1,sample_len,1)\n",
    "                                ),axis=2)),axis=0)\n",
    "    X_train_temp[key] = train_array"
   ]
  },
  {
   "cell_type": "markdown",
   "metadata": {},
   "source": [
    "Create training and test dataset with randomization, both with X and Y(lable...at this point not one-hot encoded yet).\n",
    "\n",
    "For each, let user get A,B,C (HP) data by key. A, B, C contains 10 categories data for each HP. "
   ]
  },
  {
   "cell_type": "code",
   "execution_count": 11,
   "metadata": {},
   "outputs": [],
   "source": [
    "\n",
    "def randomize(dataset, labels):\n",
    "  permutation = np.random.permutation(labels.shape[0])\n",
    "  shuffled_dataset = dataset[permutation,:]\n",
    "  shuffled_labels = labels[permutation]\n",
    "  return shuffled_dataset, shuffled_labels\n",
    "\n",
    "def create_dataset(X_temp):\n",
    "    X = {\"A\":np.empty((0,sample_len,2),float),\"B\":np.empty((0,sample_len,2),float),\"C\":np.empty((0,sample_len,2),float)}\n",
    "    Y = {\"A\":np.empty((0,1),int),\"B\":np.empty((0,1),int),\"C\":np.empty((0,1),int)}\n",
    "    for key,sample in sorted(X_temp.items()):\n",
    "        X[key.split(sep=\"-\")[1]]=np.concatenate((X[key.split(sep=\"-\")[1]],sample),axis=0)\n",
    "        y = np.empty(len(sample),int)\n",
    "        y.fill(key.split(sep=\"-\")[0])\n",
    "        y = y.reshape((len(sample),1))\n",
    "        Y[key.split(sep=\"-\")[1]]=np.concatenate((Y[key.split(sep=\"-\")[1]],y),axis=0)\n",
    "    #shuffling\n",
    "    for key,samplearray in sorted(X.items()):\n",
    "        X[key],Y[key] = randomize(samplearray,Y[key])\n",
    "    return X,Y\n",
    "\n",
    "X_test,Y_test = create_dataset(X_test_temp) \n",
    "X_train,Y_train = create_dataset(X_train_temp)"
   ]
  },
  {
   "cell_type": "markdown",
   "metadata": {},
   "source": [
    "dataset D contains all. Vertically stack A, B and C and shuffle."
   ]
  },
  {
   "cell_type": "code",
   "execution_count": 12,
   "metadata": {},
   "outputs": [],
   "source": [
    "X_test[\"D\"],Y_test[\"D\"] = randomize(np.vstack((X_test[\"A\"],X_test[\"B\"],X_test[\"C\"]))\n",
    "    ,np.vstack((Y_test[\"A\"],Y_test[\"B\"],Y_test[\"C\"])))\n",
    "\n",
    "X_train[\"D\"],Y_train[\"D\"] = randomize(np.vstack((X_train[\"A\"],X_train[\"B\"],X_train[\"C\"]))\n",
    "    ,np.vstack((Y_train[\"A\"],Y_train[\"B\"],Y_train[\"C\"])))"
   ]
  },
  {
   "cell_type": "markdown",
   "metadata": {},
   "source": [
    "Saving the dataset as pickle format"
   ]
  },
  {
   "cell_type": "code",
   "execution_count": 13,
   "metadata": {},
   "outputs": [
    {
     "name": "stdout",
     "output_type": "stream",
     "text": [
      "Compressed pickle size: 1346930161\n"
     ]
    }
   ],
   "source": [
    "\n",
    "pickle_file = os.path.join('./data/', 'ABCD_Datasets.pickle')\n",
    "\n",
    "try:\n",
    "  f = open(pickle_file, 'wb')\n",
    "  save = {\n",
    "    'train_datasets': X_train,\n",
    "    'train_labels': Y_train,\n",
    "    'test_datasets': X_test,\n",
    "    'test_labels': Y_test,\n",
    "    }\n",
    "  pickle.dump(save, f, pickle.HIGHEST_PROTOCOL)\n",
    "  f.close()\n",
    "except Exception as e:\n",
    "  print('Unable to save data to', pickle_file, ':', e)\n",
    "  raise\n",
    "\n",
    "statinfo = os.stat(pickle_file)\n",
    "print('Compressed pickle size:', statinfo.st_size)\n"
   ]
  }
 ],
 "metadata": {
  "kernelspec": {
   "display_name": "Python 3",
   "language": "python",
   "name": "python3"
  },
  "language_info": {
   "codemirror_mode": {
    "name": "ipython",
    "version": 3
   },
   "file_extension": ".py",
   "mimetype": "text/x-python",
   "name": "python",
   "nbconvert_exporter": "python",
   "pygments_lexer": "ipython3",
   "version": "3.6.5"
  }
 },
 "nbformat": 4,
 "nbformat_minor": 2
}
