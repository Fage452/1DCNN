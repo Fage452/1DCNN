{
 "cells": [
  {
   "cell_type": "markdown",
   "metadata": {},
   "source": [
    "RNN"
   ]
  },
  {
   "cell_type": "code",
   "execution_count": 1,
   "metadata": {},
   "outputs": [
    {
     "name": "stderr",
     "output_type": "stream",
     "text": [
      "Using TensorFlow backend.\n"
     ]
    }
   ],
   "source": [
    "from six.moves import cPickle as pickle\n",
    "import keras\n",
    "from keras.layers.core import Dense, Activation\n",
    "from keras.models import Sequential\n",
    "from keras.layers import GRU"
   ]
  },
  {
   "cell_type": "markdown",
   "metadata": {},
   "source": [
    "Loading the data"
   ]
  },
  {
   "cell_type": "code",
   "execution_count": 2,
   "metadata": {},
   "outputs": [],
   "source": [
    "pfile = r\"./data/ABCD_Datasets.pickle\"\n",
    "with (open(pfile, \"rb\")) as openfile:\n",
    "    while True:\n",
    "        try:\n",
    "            ABCD_Datasets = pickle.load(openfile)\n",
    "        except EOFError:\n",
    "            break\n",
    "\n",
    "X_train_D = ABCD_Datasets[\"train_datasets\"][\"D\"]\n",
    "Y_train_D = ABCD_Datasets[\"train_labels\"][\"D\"]\n",
    "X_test_D = ABCD_Datasets[\"test_datasets\"][\"D\"]\n",
    "Y_test_D = ABCD_Datasets[\"test_labels\"][\"D\"]"
   ]
  },
  {
   "cell_type": "markdown",
   "metadata": {},
   "source": [
    "one hot-encoding and creating one-hot encoding, quick check"
   ]
  },
  {
   "cell_type": "code",
   "execution_count": 3,
   "metadata": {},
   "outputs": [
    {
     "name": "stdout",
     "output_type": "stream",
     "text": [
      "x_train shape: (17800, 2048, 2)\n",
      "17800 train samples\n",
      "750 test samples\n",
      "2000 validation samples\n"
     ]
    }
   ],
   "source": [
    "# one-hot encode the labels\n",
    "num_classes = 10\n",
    "Y_train_D_hot = keras.utils.to_categorical(Y_train_D-1, num_classes)\n",
    "Y_test_D_hot = keras.utils.to_categorical(Y_test_D-1, num_classes)\n",
    "\n",
    "# break training set into training and validation sets\n",
    "(X_train, X_valid) = X_train_D[2000:], X_train_D[:2000]\n",
    "(Y_train, Y_valid) = Y_train_D_hot[2000:], Y_train_D_hot[:2000]\n",
    "X_test = X_test_D\n",
    "Y_test = Y_test_D_hot\n",
    "\n",
    "# print shape of training set\n",
    "print('x_train shape:', X_train.shape)\n",
    "\n",
    "# print number of training, validation, and test images\n",
    "print(X_train.shape[0], 'train samples')\n",
    "print(X_test.shape[0], 'test samples')\n",
    "print(X_valid.shape[0], 'validation samples')\n"
   ]
  },
  {
   "cell_type": "markdown",
   "metadata": {},
   "source": [
    "RNN wiht GRU"
   ]
  },
  {
   "cell_type": "code",
   "execution_count": 5,
   "metadata": {},
   "outputs": [
    {
     "name": "stdout",
     "output_type": "stream",
     "text": [
      "_________________________________________________________________\n",
      "Layer (type)                 Output Shape              Param #   \n",
      "=================================================================\n",
      "gru_2 (GRU)                  (None, 64)                12864     \n",
      "_________________________________________________________________\n",
      "dense_2 (Dense)              (None, 10)                650       \n",
      "=================================================================\n",
      "Total params: 13,514\n",
      "Trainable params: 13,514\n",
      "Non-trainable params: 0\n",
      "_________________________________________________________________\n",
      "Train on 17800 samples, validate on 2000 samples\n",
      "Epoch 1/10\n",
      "17800/17800 [==============================] - 1256s 71ms/step - loss: 1.9422 - acc: 0.1775 - val_loss: 1.8365 - val_acc: 0.1785\n",
      "Epoch 2/10\n",
      "17800/17800 [==============================] - 1241s 70ms/step - loss: 1.4014 - acc: 0.4622 - val_loss: 1.1376 - val_acc: 0.5950\n",
      "Epoch 3/10\n",
      "17800/17800 [==============================] - 1235s 69ms/step - loss: 0.8072 - acc: 0.7138 - val_loss: 0.8184 - val_acc: 0.6875\n",
      "Epoch 4/10\n",
      "17800/17800 [==============================] - 1238s 70ms/step - loss: 0.8673 - acc: 0.7253 - val_loss: 1.4768 - val_acc: 0.5980\n",
      "Epoch 5/10\n",
      "17800/17800 [==============================] - 1234s 69ms/step - loss: 1.0564 - acc: 0.6567 - val_loss: 0.7791 - val_acc: 0.7870\n",
      "Epoch 6/10\n",
      "17800/17800 [==============================] - 1213s 68ms/step - loss: 0.6031 - acc: 0.7910 - val_loss: 0.4196 - val_acc: 0.9215\n",
      "Epoch 7/10\n",
      "17800/17800 [==============================] - 1211s 68ms/step - loss: 0.4747 - acc: 0.8744 - val_loss: 0.2936 - val_acc: 0.9375\n",
      "Epoch 8/10\n",
      "17800/17800 [==============================] - 1206s 68ms/step - loss: 0.3127 - acc: 0.9106 - val_loss: 0.4374 - val_acc: 0.8510\n",
      "Epoch 9/10\n",
      "17800/17800 [==============================] - 1229s 69ms/step - loss: 0.2126 - acc: 0.9388 - val_loss: 0.1597 - val_acc: 0.9585\n",
      "Epoch 10/10\n",
      "17800/17800 [==============================] - 1218s 68ms/step - loss: 0.5446 - acc: 0.8575 - val_loss: 1.9221 - val_acc: 0.4885\n",
      "\n",
      " RNN Test accuracy: 0.47066666762\n",
      "\n",
      " RNN train accuracy: 0.485168539326\n",
      "\n",
      " RNN validation accuracy: 0.4885\n"
     ]
    }
   ],
   "source": [
    "# channel\n",
    "nch = 2\n",
    "\n",
    "# epch\n",
    "ne = 10\n",
    "\n",
    "# GRU unit\n",
    "latent_dim = 64\n",
    "\n",
    "model = Sequential()\n",
    "model.add(GRU(latent_dim, input_shape=(2048,nch)))\n",
    "model.add(Dense(10, activation='softmax'))\n",
    "\n",
    "model.summary()\n",
    "\n",
    "\n",
    "# compile the model\n",
    "model.compile(loss='categorical_crossentropy', optimizer='rmsprop', \n",
    "                  metrics=['accuracy'])\n",
    "\n",
    "hist = model.fit(X_train[:,:,0:nch], Y_train, batch_size=32, epochs=ne,\n",
    "          validation_data=(X_valid[:,:,0:nch], Y_valid), \n",
    "          verbose=1, shuffle=True)\n",
    "\n",
    "# evaluate and print test accuracy\n",
    "score = model.evaluate(X_test[:,:,0:nch], Y_test, verbose=0)\n",
    "print('\\n', 'RNN Test accuracy:', score[1])\n",
    "\n",
    "score = model.evaluate(X_train[:,:,0:nch], Y_train, verbose=0)\n",
    "print('\\n', 'RNN train accuracy:', score[1])\n",
    "\n",
    "score = model.evaluate(X_valid[:,:,0:nch], Y_valid, verbose=0)\n",
    "print('\\n', 'RNN validation accuracy:', score[1])"
   ]
  },
  {
   "cell_type": "markdown",
   "metadata": {},
   "source": [
    "3.5 hours. overfitting. need to add dropout."
   ]
  },
  {
   "cell_type": "code",
   "execution_count": null,
   "metadata": {},
   "outputs": [],
   "source": []
  }
 ],
 "metadata": {
  "kernelspec": {
   "display_name": "Python 3",
   "language": "python",
   "name": "python3"
  },
  "language_info": {
   "codemirror_mode": {
    "name": "ipython",
    "version": 3
   },
   "file_extension": ".py",
   "mimetype": "text/x-python",
   "name": "python",
   "nbconvert_exporter": "python",
   "pygments_lexer": "ipython3",
   "version": "3.6.5"
  }
 },
 "nbformat": 4,
 "nbformat_minor": 2
}
